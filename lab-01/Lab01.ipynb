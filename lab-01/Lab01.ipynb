{
 "cells": [
  {
   "cell_type": "markdown",
   "metadata": {},
   "source": [
    "# Machine Learning and Data Mining: Lab 01\n",
    "---------------"
   ]
  },
  {
   "cell_type": "markdown",
   "metadata": {},
   "source": [
    "#### Setup\n",
    "This lab is for installing and setting up your machine for the labs in the course Machine Learning and Data Mining.\n",
    "If you have any questions, please ask in the teams channel asap. If you already have installed the necessary tools and libraries, you can just skip this lab."
   ]
  },
  {
   "cell_type": "markdown",
   "metadata": {},
   "source": [
    "##### __(a) Check your installed Python version. We need a version higher or equal Python 3.8.__"
   ]
  },
  {
   "cell_type": "code",
   "execution_count": 3,
   "metadata": {},
   "outputs": [
    {
     "name": "stdout",
     "output_type": "stream",
     "text": [
      "Done. Python >= 3.8 already installed.\n"
     ]
    }
   ],
   "source": [
    "import sys\n",
    "\n",
    "if sys.version_info >= (3, 8):\n",
    "    print(\"Done. Python >= 3.8 already installed.\")\n",
    "else:\n",
    "    print(\"Python >= 3.8 not installed. Please install a corresponding version.\")"
   ]
  },
  {
   "cell_type": "markdown",
   "metadata": {},
   "source": [
    "##### __(b) Check if you already have installed Pip. Pip is the package installer for Python, which we need in the following labs.__"
   ]
  },
  {
   "cell_type": "code",
   "execution_count": 4,
   "metadata": {},
   "outputs": [
    {
     "name": "stdout",
     "output_type": "stream",
     "text": [
      "Done. Pip already installed.\n"
     ]
    }
   ],
   "source": [
    "try:\n",
    "    import pip\n",
    "    print(\"Done. Pip already installed.\")\n",
    "except ImportError:\n",
    "    print(\"Pip not installed. Please install the newest version.\")"
   ]
  },
  {
   "cell_type": "markdown",
   "metadata": {},
   "source": [
    "##### __(c) Print each character line by line for the sentence \"Im ready and super excited for the course Machine Learning and Data Mining\".__"
   ]
  },
  {
   "cell_type": "code",
   "execution_count": 5,
   "metadata": {},
   "outputs": [
    {
     "name": "stdout",
     "output_type": "stream",
     "text": [
      "I\n",
      "m\n",
      " \n",
      "r\n",
      "e\n",
      "a\n",
      "d\n",
      "y\n",
      " \n",
      "a\n",
      "n\n",
      "d\n",
      " \n",
      "s\n",
      "u\n",
      "p\n",
      "e\n",
      "r\n",
      " \n",
      "e\n",
      "x\n",
      "c\n",
      "i\n",
      "t\n",
      "e\n",
      "d\n",
      " \n",
      "f\n",
      "o\n",
      "r\n",
      " \n",
      "t\n",
      "h\n",
      "e\n",
      " \n",
      "c\n",
      "o\n",
      "u\n",
      "r\n",
      "s\n",
      "e\n",
      " \n",
      "M\n",
      "a\n",
      "c\n",
      "h\n",
      "i\n",
      "n\n",
      "e\n",
      " \n",
      "L\n",
      "e\n",
      "a\n",
      "r\n",
      "n\n",
      "i\n",
      "n\n",
      "g\n",
      " \n",
      "a\n",
      "n\n",
      "d\n",
      " \n",
      "D\n",
      "a\n",
      "t\n",
      "a\n",
      " \n",
      "M\n",
      "i\n",
      "n\n",
      "i\n",
      "n\n",
      "g\n"
     ]
    }
   ],
   "source": [
    "line = \"Im ready and super excited for the course Machine Learning and Data Mining\"\n",
    "\n",
    "for char in line:\n",
    "    print(char)"
   ]
  },
  {
   "cell_type": "markdown",
   "metadata": {},
   "source": [
    "##### __(d) Print the levensthein distance and the jaro winkler similarity (https://pypi.org/project/strsimpy/) between the sentences  \"the frog is green\", \"green is the pea\", and the \"green frog eats a green pea\".__"
   ]
  },
  {
   "cell_type": "code",
   "execution_count": 11,
   "metadata": {},
   "outputs": [
    {
     "name": "stdout",
     "output_type": "stream",
     "text": [
      "lev s1 & s2: 12\n",
      "lev s1 & s3: 13\n",
      "lev s2 & s3: 14\n",
      "\n",
      "jaro-w s1 & s2: 0.3955882352941176\n",
      "jaro-w s1 & s3: 0.3621744994294015\n",
      "jaro-w s2 & s3: 0.2127914951989026\n"
     ]
    }
   ],
   "source": [
    "from strsimpy.levenshtein import Levenshtein\n",
    "from strsimpy.jaro_winkler import JaroWinkler\n",
    "\n",
    "\n",
    "s1 = \"the frog is green\"\n",
    "s2 = \"green is the pea\"\n",
    "s3 = \"green frog eats a green pea\"\n",
    "\n",
    "levenshtein = Levenshtein()\n",
    "print(f\"lev s1 & s2: {levenshtein.distance(s1, s2)}\")\n",
    "print(f\"lev s1 & s3: {levenshtein.distance(s1, s3)}\")\n",
    "print(f\"lev s2 & s3: {levenshtein.distance(s2, s3)}\\n\")\n",
    "\n",
    "jarowinkler = JaroWinkler()\n",
    "print(f\"jaro-w s1 & s2: {jarowinkler.distance(s1, s2)}\")\n",
    "print(f\"jaro-w s1 & s3: {jarowinkler.distance(s1, s3)}\")\n",
    "print(f\"jaro-w s2 & s3: {jarowinkler.distance(s2, s3)}\")\n"
   ]
  }
 ],
 "metadata": {
  "kernelspec": {
   "name": "pycharm-37f33278",
   "language": "python",
   "display_name": "PyCharm (mdlm-praktikas)"
  },
  "language_info": {
   "codemirror_mode": {
    "name": "ipython",
    "version": 3
   },
   "file_extension": ".py",
   "mimetype": "text/x-python",
   "name": "python",
   "nbconvert_exporter": "python",
   "pygments_lexer": "ipython3",
   "version": "3.8.6"
  }
 },
 "nbformat": 4,
 "nbformat_minor": 4
}