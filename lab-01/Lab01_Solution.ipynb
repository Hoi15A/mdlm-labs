{
 "cells": [
  {
   "cell_type": "markdown",
   "metadata": {},
   "source": [
    "# Machine Learning and Data Mining: Lab 01 - Solution\n",
    "---------------"
   ]
  },
  {
   "cell_type": "markdown",
   "metadata": {},
   "source": [
    "#### Setup\n",
    "This lab is for installing and setting up your machine for the labs in the course Machine Learning and Data Mining.\n",
    "If you have any questions, please ask in the teams channel asap. If you already have installed the necessary tools and libraries, you can just skip this lab."
   ]
  },
  {
   "cell_type": "markdown",
   "metadata": {},
   "source": [
    "##### __(a) Check your installed Python version. We need a version higher or equal Python 3.8.__"
   ]
  },
  {
   "cell_type": "code",
   "execution_count": null,
   "metadata": {},
   "outputs": [],
   "source": [
    "import sys\n",
    "\n",
    "if sys.version_info >= (3, 8):\n",
    "    print(\"Done. Python >= 3.8 already installed.\")\n",
    "else:\n",
    "    print(\"Python >= 3.8 not installed. Please install a corresponding version.\")"
   ]
  },
  {
   "cell_type": "markdown",
   "metadata": {},
   "source": [
    "##### __(b) Check if you already have installed Pip. Pip is the package installer for Python, which we need in the following labs.__"
   ]
  },
  {
   "cell_type": "code",
   "execution_count": null,
   "metadata": {},
   "outputs": [],
   "source": [
    "try:\n",
    "    import pip\n",
    "    print(\"Done. Pip already installed.\")\n",
    "except ImportError:\n",
    "    print(\"Pip not installed. Please install the newest version.\")"
   ]
  },
  {
   "cell_type": "markdown",
   "metadata": {},
   "source": [
    "##### __(c) Print each character line by line for the sentence \"Im ready and super excited for the course Machine Learning and Data Mining\".__"
   ]
  },
  {
   "cell_type": "code",
   "execution_count": null,
   "metadata": {},
   "outputs": [],
   "source": [
    "sentence = 'Im ready and super excited for the course Machine Learning and Data Mining'\n",
    "\n",
    "for c in sentence:\n",
    "    print(c)"
   ]
  },
  {
   "cell_type": "markdown",
   "metadata": {},
   "source": [
    "##### __(d) Print the levensthein distance and the jaro winkler similarity (https://pypi.org/project/strsimpy/) between the sentences  \"the frog is green\", \"green is the pea\", and the \"green frog eats a green pea\".__"
   ]
  },
  {
   "cell_type": "code",
   "execution_count": null,
   "metadata": {},
   "outputs": [],
   "source": [
    "from strsimpy.levenshtein import Levenshtein\n",
    "from strsimpy.jaro_winkler import JaroWinkler\n",
    "\n",
    "sentences = ['the frog is green', 'green is the pea', 'green frog eats a green pea']\n",
    "\n",
    "levenshtein = Levenshtein()\n",
    "jarowinkler = JaroWinkler()\n",
    "\n",
    "for sent in sentences:\n",
    "    for sent2 in sentences:\n",
    "        if sent != sent2:\n",
    "            print(sent + ' <--> ' + sent2 + ': ' + str(levenshtein.distance(sent, sent2)) + ' ' + str(jarowinkler.similarity(sent, sent2)))"
   ]
  }
 ],
 "metadata": {
  "kernelspec": {
   "display_name": "Python 3",
   "language": "python",
   "name": "python3"
  },
  "language_info": {
   "codemirror_mode": {
    "name": "ipython",
    "version": 3
   },
   "file_extension": ".py",
   "mimetype": "text/x-python",
   "name": "python",
   "nbconvert_exporter": "python",
   "pygments_lexer": "ipython3",
   "version": "3.8.6"
  }
 },
 "nbformat": 4,
 "nbformat_minor": 4
}
